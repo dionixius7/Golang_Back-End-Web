{
 "cells": [
  {
   "cell_type": "code",
   "execution_count": 1,
   "id": "e7599dce-3e38-4864-a9de-774715f2fa1b",
   "metadata": {},
   "outputs": [
    {
     "data": {
      "text/plain": [
       "<Response [200]>"
      ]
     },
     "execution_count": 1,
     "metadata": {},
     "output_type": "execute_result"
    }
   ],
   "source": [
    "import requests\n",
    "url = \"http://127.0.0.1:8080/predict\"\n",
    "data = { \n",
    "    'cv_url' : \"https://drive.google.com/uc?export=download&id=12iCfc9cmBacYzVhPuUv6BzisFBuwlsiA\" \n",
    "}\n",
    "r = requests.post(url, data)\n",
    "r\n"
   ]
  },
  {
   "cell_type": "code",
   "execution_count": 2,
   "id": "83bb3a9c-e6d3-4a2c-9a80-f0bcefddbe49",
   "metadata": {},
   "outputs": [
    {
     "data": {
      "text/plain": [
       "b'{\"hasil_prediksi\": \"Data Scientist\", \"text_output\": \"skill public speaking teamwork problem solving machine learning python sql analysis data understanding microsoft office english language indonesian language\"}'"
      ]
     },
     "execution_count": 2,
     "metadata": {},
     "output_type": "execute_result"
    }
   ],
   "source": [
    "r.content"
   ]
  },
  {
   "cell_type": "code",
   "execution_count": 3,
   "id": "3a93090c-0f16-4c11-820e-89bf18c54ff3",
   "metadata": {},
   "outputs": [],
   "source": [
    "import json\n",
    "\n",
    "output = r.content\n",
    "\n",
    "# Mengubah bytes menjadi string\n",
    "output_str = output.decode('utf-8')\n",
    "\n",
    "# Mem-parsing string JSON\n",
    "data = json.loads(output_str)\n",
    "\n",
    "# Mengambil nilai \"hasil_prediksi\"\n",
    "job_title = data[\"hasil_prediksi\"]\n"
   ]
  },
  {
   "cell_type": "code",
   "execution_count": 4,
   "id": "fc081fc3-7d0e-49bf-88bc-f0342f637803",
   "metadata": {},
   "outputs": [
    {
     "name": "stdout",
     "output_type": "stream",
     "text": [
      "Kami Merekomendasikan Anda Menjadi Seorang: Data Scientist\n",
      "Kami Merekomendasikan Kursus Online Untuk Data Scientist:\n",
      "- Python Tutorial for Beginners: https://www.youtube.com/watch?v=8124kv-632k&ab_channel=freeCodeCamp.org\n",
      "- Machine Learning Playlist: https://youtube.com/playlist?list=PLblh5JKOoLUICTaGLRoHQDuF_7q2GfuJF\n"
     ]
    }
   ],
   "source": [
    "def recommend_course(job_title):\n",
    "    if job_title == \"Data Scientist\":\n",
    "        print(\"Kami Merekomendasikan Kursus Online Untuk Data Scientist:\")\n",
    "        print(\"- Python Tutorial for Beginners: https://www.youtube.com/watch?v=8124kv-632k&ab_channel=freeCodeCamp.org\")\n",
    "        print(\"- Machine Learning Playlist: https://youtube.com/playlist?list=PLblh5JKOoLUICTaGLRoHQDuF_7q2GfuJF\")\n",
    "    elif job_title == \"Business Analyst\":\n",
    "        print(\"Kami Merekomendasikan Kursus Online Untuk Business Analyst:\")\n",
    "        print(\"- Business Analytics Specialization: https://www.coursera.org/specializations/business-analytics\")\n",
    "        print(\"- Google Data Analytics Professional Certificate: https://www.coursera.org/professional-certificates/google-data-analytics\")\n",
    "    elif job_title == \"DevOps Engineer\":\n",
    "        print(\"Kami Merekomendasikan Kursus Online Untuk DevOps Engineer:\")\n",
    "        print(\"- DevOps Engineering Course for Beginners: https://www.youtube.com/watch?v=j5Zsa_eOXeY&ab_channel=freeCodeCamp.org\")\n",
    "        print(\"- The Complete DevOps Engineer Course 2.0 - Java & Kubernetes: https://www.udemy.com/course/the-complete-devops-engineer-course-20-java-kubernetes/?utm_source=adwords&utm_medium=udemyads&utm_campaign=DSA_Catchall_la.EN_cc.ID&utm_term=_._ag_112265177716_._ad_500831051438_._de_c_._dm__._pl__._ti_dsa-449490803887_._li_9124429_._pd__._&gclid=CjwKCAjwhJukBhBPEiwAniIcNWt1xGjWEJQ51mz005uUoL36x0B963sXY3xgARmDqwUCckPhawKdkRoCI7MQAvD_BwE\")\n",
    "    elif job_title == \"Java Developer\":\n",
    "        print(\"Kami Merekomendasikan Kursus Online Untuk Java Developer:\")\n",
    "        print(\"- Java Programming for Complete Beginners: https://www.udemy.com/course/java-programming-tutorial-for-beginners/\")\n",
    "        print(\"- Java Programming and Software Engineering Fundamentals Specialization: https://www.coursera.org/specializations/java-programming\")\n",
    "    elif job_title == \"Operations Manager\":\n",
    "        print(\"Kami Merekomendasikan Kursus Online Untuk Operations Manager:\")\n",
    "        print(\"- Operations Management A-Z: Business Processes and Systems: https://www.udemy.com/course/operations-management-a-z/\")\n",
    "        print(\"- Introduction to Operations Management: https://www.coursera.org/learn/wharton-operations\")\n",
    "    elif job_title == \"Web Designer\":\n",
    "        print(\"Kami Merekomendasikan Kursus Online Untuk Web Designer:\")\n",
    "        print(\"- Web Design for Everybody: Basics of Web Development & Coding Specialization: https://www.coursera.org/specializations/web-design\")\n",
    "        print(\"- HTML, CSS, and Javascript for Web Developers: https://www.coursera.org/learn/html-css-javascript-for-web-developers\")\n",
    "    else:\n",
    "        print(\"Job title not found.\")\n",
    "\n",
    "\n",
    "print(\"Kami Merekomendasikan Anda Menjadi Seorang:\", job_title)\n",
    "recommend_course(job_title)\n"
   ]
  }
 ],
 "metadata": {
  "kernelspec": {
   "display_name": "Python 3 (ipykernel)",
   "language": "python",
   "name": "python3"
  },
  "language_info": {
   "codemirror_mode": {
    "name": "ipython",
    "version": 3
   },
   "file_extension": ".py",
   "mimetype": "text/x-python",
   "name": "python",
   "nbconvert_exporter": "python",
   "pygments_lexer": "ipython3",
   "version": "3.10.9"
  }
 },
 "nbformat": 4,
 "nbformat_minor": 5
}
